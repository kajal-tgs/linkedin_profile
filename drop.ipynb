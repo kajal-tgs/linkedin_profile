{
 "cells": [
  {
   "cell_type": "code",
   "execution_count": 11,
   "id": "8a423b64-830d-4ada-b934-b8e80015afba",
   "metadata": {},
   "outputs": [],
   "source": [
    "import pandas as pd\n",
    "\n",
    "def drop_null_emails(input_csv, output_csv):\n",
    "    # Read the CSV file into a DataFrame\n",
    "    df = pd.read_csv(input_csv)\n",
    "\n",
    "    # Drop rows where the 'email id' column has null values\n",
    "    df = df.dropna(subset=['Email'], how='any')\n",
    "\n",
    "    # Save the updated DataFrame to a new CSV file\n",
    "    df.to_csv(output_csv, index=False)\n",
    "\n",
    "# Example usage:\n",
    "input_csv_file = 'snowflake_developer_dataminer.csv'  # Replace with your input CSV file name\n",
    "output_csv_file = 'out_snowflake_developer_dataminer.csv'  # Replace with your desired output CSV file name\n",
    "\n",
    "drop_null_emails(input_csv_file, output_csv_file)\n"
   ]
  },
  {
   "cell_type": "code",
   "execution_count": null,
   "id": "e90820c2-91e7-497b-8ad0-4b7770df4dfa",
   "metadata": {},
   "outputs": [],
   "source": []
  }
 ],
 "metadata": {
  "kernelspec": {
   "display_name": ".python3.10",
   "language": "python",
   "name": ".python3.10"
  },
  "language_info": {
   "codemirror_mode": {
    "name": "ipython",
    "version": 3
   },
   "file_extension": ".py",
   "mimetype": "text/x-python",
   "name": "python",
   "nbconvert_exporter": "python",
   "pygments_lexer": "ipython3",
   "version": "3.10.13"
  }
 },
 "nbformat": 4,
 "nbformat_minor": 5
}
